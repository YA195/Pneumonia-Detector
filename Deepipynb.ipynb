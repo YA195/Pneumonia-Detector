{
 "cells": [
  {
   "cell_type": "markdown",
   "id": "d9f0a75c",
   "metadata": {},
   "source": [
    "## **Imports**"
   ]
  },
  {
   "cell_type": "code",
   "execution_count": 40,
   "id": "a9240a94",
   "metadata": {},
   "outputs": [],
   "source": [
    "import os\n",
    "import cv2\n",
    "import numpy as np\n",
    "import matplotlib.pyplot as plt\n",
    "import seaborn as sns\n",
    "import albumentations as A\n",
    "import torch\n",
    "import torch.nn as nn\n",
    "import torch.nn.functional as F\n",
    "import torch.optim as optim\n",
    "from torch.optim import Adam\n",
    "from torch.utils.data import random_split\n",
    "from torch.utils.data import DataLoader\n",
    "from torchvision import datasets, transforms, models\n",
    "from torchvision.datasets import ImageFolder\n",
    "from collections import Counter\n",
    "from sklearn.metrics import classification_report, confusion_matrix, accuracy_score\n",
    "from tqdm import tqdm\n",
    "\n"
   ]
  },
  {
   "cell_type": "markdown",
   "id": "f1c103a4",
   "metadata": {},
   "source": [
    "## **Preprocessing**"
   ]
  },
  {
   "cell_type": "code",
   "execution_count": 6,
   "id": "de73874a",
   "metadata": {},
   "outputs": [],
   "source": [
    "os.environ[\"KMP_DUPLICATE_LIB_OK\"] = \"TRUE\""
   ]
  },
  {
   "cell_type": "code",
   "execution_count": 7,
   "id": "c000a827",
   "metadata": {},
   "outputs": [
    {
     "name": "stderr",
     "output_type": "stream",
     "text": [
      "c:\\Users\\yosef\\anaconda3\\Lib\\site-packages\\albumentations\\core\\validation.py:87: UserWarning: ShiftScaleRotate is a special case of Affine transform. Please use Affine transform instead.\n",
      "  original_init(self, **validated_kwargs)\n",
      "Processing train/NORMAL: 100%|██████████| 1349/1349 [00:30<00:00, 43.96it/s]\n",
      "Processing train/PNEUMONIA: 100%|██████████| 3883/3883 [00:48<00:00, 79.81it/s] \n",
      "Processing test/NORMAL: 100%|██████████| 234/234 [00:04<00:00, 52.82it/s]\n",
      "Processing test/PNEUMONIA: 100%|██████████| 390/390 [00:03<00:00, 127.94it/s]\n"
     ]
    }
   ],
   "source": [
    "original_path = r\"E:\\chest_xray\"\n",
    "save_path = r\"E:\\preprocessed_dataset\"\n",
    "\n",
    "img_size = (224, 224)\n",
    "\n",
    "transform = A.Compose([\n",
    "    A.Resize(height=img_size[0], width=img_size[1]),\n",
    "    A.HorizontalFlip(p=0.5),\n",
    "    A.RandomBrightnessContrast(p=0.2),\n",
    "    A.ShiftScaleRotate(shift_limit=0.05, scale_limit=0.05, rotate_limit=15, p=0.5),\n",
    "])\n",
    "\n",
    "for mode in ['train', 'test']:\n",
    "    for label in ['NORMAL', 'PNEUMONIA']:\n",
    "        os.makedirs(os.path.join(save_path, mode, label), exist_ok=True)\n",
    "\n",
    "def preprocess_images(data_type):\n",
    "    for label in ['NORMAL', 'PNEUMONIA']:\n",
    "        src_folder = os.path.join(original_path, data_type, label)\n",
    "        tgt_folder = os.path.join(save_path, data_type, label)\n",
    "\n",
    "        for img_name in tqdm(os.listdir(src_folder), desc=f'Processing {data_type}/{label}'):\n",
    "            img_path = os.path.join(src_folder, img_name)\n",
    "            img = cv2.imread(img_path)\n",
    "\n",
    "            if img is None:\n",
    "                print(f\"Skipping unreadable image: {img_name}\")\n",
    "                continue\n",
    "\n",
    "            img = cv2.cvtColor(img, cv2.COLOR_BGR2RGB)\n",
    "            augmented = transform(image=img)\n",
    "            img = augmented['image']\n",
    "\n",
    "            img = cv2.cvtColor(img, cv2.COLOR_RGB2GRAY)  \n",
    "\n",
    "            img = img.astype('float32') / 255.0  \n",
    "\n",
    "            save_img_path = os.path.join(tgt_folder, img_name)\n",
    "            cv2.imwrite(save_img_path, (img * 255).astype('uint8'))  \n",
    "\n",
    "preprocess_images('train')\n",
    "preprocess_images('test')"
   ]
  },
  {
   "cell_type": "code",
   "execution_count": 6,
   "id": "121686a1",
   "metadata": {},
   "outputs": [
    {
     "name": "stdout",
     "output_type": "stream",
     "text": [
      "Using device: cuda\n"
     ]
    }
   ],
   "source": [
    "device = torch.device(\"cuda\" if torch.cuda.is_available() else \"cpu\")\n",
    "print(\"Using device:\", device)"
   ]
  },
  {
   "cell_type": "code",
   "execution_count": 12,
   "id": "f742b882",
   "metadata": {},
   "outputs": [],
   "source": [
    "train_dir = r\"E:\\preprocessed_dataset\\train\"\n",
    "test_dir = r\"E:\\preprocessed_dataset\\test\""
   ]
  },
  {
   "cell_type": "code",
   "execution_count": 13,
   "id": "09c64b9c",
   "metadata": {},
   "outputs": [
    {
     "name": "stdout",
     "output_type": "stream",
     "text": [
      "Train: Counter({1: 3883, 0: 1349})\n",
      "Test : Counter({1: 390, 0: 234})\n",
      "Val : Counter({1: 780, 0: 267})\n"
     ]
    }
   ],
   "source": [
    "data_path = r\"E:\\preprocessed_dataset\"\n",
    "device = torch.device(\"cuda\" if torch.cuda.is_available() else \"cpu\")\n",
    "criterion = torch.nn.BCEWithLogitsLoss()\n",
    "BATCH_SIZE = 32\n",
    "EPOCHS = 30\n",
    "LEARNING_RATE = 1e-4\n",
    "PATIENCE = 5\n",
    "best_val_acc = 0.0\n",
    "patience_counter = 0\n",
    "\n",
    "transform = transforms.Compose([\n",
    "    transforms.Grayscale(num_output_channels=3),  \n",
    "    transforms.Resize((224, 224)),\n",
    "    transforms.ToTensor()\n",
    "])\n",
    "\n",
    "train_dataset = datasets.ImageFolder(os.path.join(data_path, \"train\"), transform=transform)\n",
    "test_dataset = datasets.ImageFolder(os.path.join(data_path, \"test\"), transform=transform)\n",
    "\n",
    "# Split training into train and validation sets\n",
    "train_size = int(0.8 * len(train_dataset))\n",
    "val_size = len(train_dataset) - train_size\n",
    "train_subset, val_subset = random_split(train_dataset, [train_size, val_size])\n",
    "\n",
    "train_loader = DataLoader(train_subset, batch_size=BATCH_SIZE, shuffle=True)\n",
    "val_loader = DataLoader(val_subset, batch_size=BATCH_SIZE)\n",
    "test_loader = DataLoader(test_dataset, batch_size=BATCH_SIZE)\n",
    "\n",
    "print(\"Train:\", Counter([label for _, label in train_dataset]))\n",
    "print(\"Test :\", Counter([label for _, label in test_dataset]))\n",
    "print(\"Val :\", Counter([label for _, label in val_subset]))\n"
   ]
  },
  {
   "cell_type": "markdown",
   "id": "1d629779",
   "metadata": {},
   "source": [
    "## **Special Training Function**"
   ]
  },
  {
   "cell_type": "code",
   "execution_count": 27,
   "id": "7cc3108a",
   "metadata": {},
   "outputs": [],
   "source": [
    "import torch\n",
    "from torch.optim import Adam\n",
    "from tqdm import tqdm\n",
    "\n",
    "def train_model(model, train_loader, val_loader, criterion, optimizer=None, scheduler=None,\n",
    "                device='cpu', epochs=10, patience=5, save_path='best_model.pth', lr=1e-4):\n",
    "    if optimizer is None:\n",
    "        optimizer = Adam(filter(lambda p: p.requires_grad, model.parameters()), lr=lr)\n",
    "\n",
    "    if scheduler is None:\n",
    "        from torch.optim.lr_scheduler import StepLR\n",
    "        scheduler = StepLR(optimizer, step_size=5, gamma=0.1)\n",
    "\n",
    "    best_val_acc = 0.0\n",
    "    patience_counter = 0\n",
    "\n",
    "    for epoch in range(epochs):\n",
    "        model.train()\n",
    "        running_loss = 0.0\n",
    "        correct = 0\n",
    "        total = 0\n",
    "\n",
    "        loop = tqdm(train_loader, desc=f\"Epoch {epoch+1}/{epochs}\", leave=False)\n",
    "        for images, labels in loop:\n",
    "            images, labels = images.to(device), labels.to(device).float().unsqueeze(1)\n",
    "            optimizer.zero_grad()\n",
    "            outputs = model(images)\n",
    "            loss = criterion(outputs, labels)\n",
    "            loss.backward()\n",
    "            optimizer.step()\n",
    "\n",
    "            running_loss += loss.item() * images.size(0)\n",
    "            preds = torch.sigmoid(outputs) > 0.5\n",
    "            correct += (preds == labels).sum().item()\n",
    "            total += labels.size(0)\n",
    "\n",
    "        train_loss = running_loss / total\n",
    "        train_acc = correct / total\n",
    "\n",
    "        # Validation\n",
    "        model.eval()\n",
    "        val_loss = 0.0\n",
    "        val_correct = 0\n",
    "        val_total = 0\n",
    "\n",
    "        with torch.no_grad():\n",
    "            for images, labels in val_loader:\n",
    "                images, labels = images.to(device), labels.to(device).float().unsqueeze(1)\n",
    "                outputs = model(images)\n",
    "                loss = criterion(outputs, labels)\n",
    "                val_loss += loss.item() * images.size(0)\n",
    "                preds = torch.sigmoid(outputs) > 0.5\n",
    "                val_correct += (preds == labels).sum().item()\n",
    "                val_total += labels.size(0)\n",
    "\n",
    "        val_loss /= val_total\n",
    "        val_acc = val_correct / val_total\n",
    "\n",
    "        scheduler.step()\n",
    "\n",
    "        print(f\"Epoch [{epoch+1}/{epochs}] | \"\n",
    "              f\"Train Loss: {train_loss:.4f} | Train Acc: {train_acc:.4f} | \"\n",
    "              f\"Val Loss: {val_loss:.4f} | Val Acc: {val_acc:.4f}\")\n",
    "\n",
    "        if val_acc > best_val_acc:\n",
    "            best_val_acc = val_acc\n",
    "            patience_counter = 0\n",
    "            torch.save(model.state_dict(), save_path)\n",
    "        else:\n",
    "            patience_counter += 1\n",
    "\n",
    "        if patience_counter >= patience:\n",
    "            print(\"Early stopping triggered.\")\n",
    "            break\n",
    "\n",
    "    model.load_state_dict(torch.load(save_path))\n",
    "    return "
   ]
  },
  {
   "cell_type": "markdown",
   "id": "70eea64a",
   "metadata": {},
   "source": [
    "## **Test Function**"
   ]
  },
  {
   "cell_type": "code",
   "execution_count": 42,
   "id": "40d0a904",
   "metadata": {},
   "outputs": [],
   "source": [
    "def evaluate_model(model, model_path, test_loader, criterion, device):\n",
    "    try:\n",
    "        model.load_state_dict(torch.load(model_path))\n",
    "    except Exception as e:\n",
    "        raise ValueError(f\"Error loading model from {model_path}: {str(e)}\")\n",
    "    \n",
    "    model = model.to(device)\n",
    "    model.eval()\n",
    "\n",
    "    test_loss = 0.0\n",
    "    test_correct = 0\n",
    "    test_total = 0\n",
    "    all_preds = []\n",
    "    all_labels = []\n",
    "    wrong_predictions = []\n",
    "\n",
    "    with torch.no_grad():\n",
    "        loop = tqdm(test_loader, desc=\"Testing\", leave=False)\n",
    "        for batch_idx, (images, labels) in enumerate(loop):\n",
    "            images, labels = images.to(device), labels.to(device).float().unsqueeze(1)  \n",
    "            outputs = model(images)\n",
    "            loss = criterion(outputs, labels)\n",
    "            test_loss += loss.item() * images.size(0)\n",
    "\n",
    "            probs = torch.sigmoid(outputs)  \n",
    "            predicted = (probs > 0.5).float()  \n",
    "\n",
    "            test_correct += (predicted == labels).sum().item()\n",
    "            test_total += labels.size(0)\n",
    "\n",
    "            predicted = predicted.squeeze(1).long()  \n",
    "            all_preds.extend(predicted.cpu().numpy())\n",
    "            all_labels.extend(labels.squeeze(1).long().cpu().numpy())\n",
    "\n",
    "            for i in range(len(labels)):\n",
    "                if predicted[i] != labels[i].long():\n",
    "                    wrong_predictions.append({\n",
    "                        \"batch_index\": batch_idx,\n",
    "                        \"image_index\": i,\n",
    "                        \"true_label\": labels[i].item(),\n",
    "                        \"predicted_label\": predicted[i].item(),\n",
    "                        \"probability\": probs[i].item() if predicted[i] == 1 else 1 - probs[i].item()  \n",
    "                    })\n",
    "\n",
    "    test_loss /= test_total\n",
    "    test_acc = test_correct / test_total\n",
    "\n",
    "    class_report = classification_report(all_labels, all_preds, target_names=[\"NORMAL\", \"PNEUMONIA\"])\n",
    "    conf_matrix = confusion_matrix(all_labels, all_preds)\n",
    "\n",
    "    print(f\"\\nFinal Test Loss: {test_loss:.4f} | Final Test Accuracy: {test_acc:.4f}\")\n",
    "    print(\"\\nClassification Report:\")\n",
    "    print(class_report)\n",
    "\n",
    "    print(\"\\nConfusion Matrix:\")\n",
    "    print(conf_matrix)\n",
    "\n",
    "    # Get the name of the model class\n",
    "    model_name = model.__class__.__name__\n",
    "\n",
    "    plt.figure(figsize=(6, 5))\n",
    "    sns.heatmap(conf_matrix, annot=True, fmt='d', cmap='Blues', \n",
    "                xticklabels=[\"NORMAL\", \"PNEUMONIA\"], yticklabels=[\"NORMAL\", \"PNEUMONIA\"])\n",
    "    plt.ylabel('True Label')\n",
    "    plt.xlabel('Predicted Label')\n",
    "    plt.title(f'{model_name} - Confusion Matrix')  \n",
    "    plt.show()\n",
    "\n",
    "    return test_loss, test_acc, all_preds, all_labels"
   ]
  },
  {
   "cell_type": "markdown",
   "id": "0b6b2439",
   "metadata": {},
   "source": [
    "## **ResNet50 Model**"
   ]
  },
  {
   "cell_type": "code",
   "execution_count": 44,
   "id": "cc8ca414",
   "metadata": {},
   "outputs": [
    {
     "name": "stderr",
     "output_type": "stream",
     "text": [
      "c:\\Users\\yosef\\anaconda3\\Lib\\site-packages\\torchvision\\models\\_utils.py:208: UserWarning: The parameter 'pretrained' is deprecated since 0.13 and may be removed in the future, please use 'weights' instead.\n",
      "  warnings.warn(\n",
      "c:\\Users\\yosef\\anaconda3\\Lib\\site-packages\\torchvision\\models\\_utils.py:223: UserWarning: Arguments other than a weight enum or `None` for 'weights' are deprecated since 0.13 and may be removed in the future. The current behavior is equivalent to passing `weights=ResNet50_Weights.IMAGENET1K_V1`. You can also use `weights=ResNet50_Weights.DEFAULT` to get the most up-to-date weights.\n",
      "  warnings.warn(msg)\n"
     ]
    }
   ],
   "source": [
    "resnet50_model = models.resnet50(pretrained=True)\n",
    "\n",
    "for param in resnet50_model.parameters():\n",
    "    param.requires_grad = False\n",
    "\n",
    "for name, param in resnet50_model.layer4.named_parameters():\n",
    "    param.requires_grad = True\n",
    "for name, param in resnet50_model.named_parameters():\n",
    "    if 'bn' in name and 'layer4' in name:\n",
    "        param.requires_grad = True\n",
    "\n",
    "num_features = resnet50_model.fc.in_features\n",
    "resnet50_model.fc = nn.Sequential(\n",
    "    nn.Dropout(0.5),\n",
    "    nn.Linear(num_features, 1)\n",
    ")\n",
    "\n",
    "resnet50_model = resnet50_model.to(device)"
   ]
  },
  {
   "cell_type": "markdown",
   "id": "53eaea25",
   "metadata": {},
   "source": [
    "### 1.Train the model"
   ]
  },
  {
   "cell_type": "code",
   "execution_count": 65,
   "id": "b44eac71",
   "metadata": {},
   "outputs": [
    {
     "name": "stderr",
     "output_type": "stream",
     "text": [
      "                                                             \r"
     ]
    },
    {
     "name": "stdout",
     "output_type": "stream",
     "text": [
      "Epoch [1/30] | Train Loss: 0.1566 | Train Acc: 0.9355 | Val Loss: 0.0754 | Val Acc: 0.9656\n"
     ]
    },
    {
     "name": "stderr",
     "output_type": "stream",
     "text": [
      "                                                             \r"
     ]
    },
    {
     "name": "stdout",
     "output_type": "stream",
     "text": [
      "Epoch [2/30] | Train Loss: 0.0354 | Train Acc: 0.9890 | Val Loss: 0.0930 | Val Acc: 0.9675\n"
     ]
    },
    {
     "name": "stderr",
     "output_type": "stream",
     "text": [
      "                                                             \r"
     ]
    },
    {
     "name": "stdout",
     "output_type": "stream",
     "text": [
      "Epoch [3/30] | Train Loss: 0.0176 | Train Acc: 0.9938 | Val Loss: 0.0669 | Val Acc: 0.9733\n"
     ]
    },
    {
     "name": "stderr",
     "output_type": "stream",
     "text": [
      "                                                             \r"
     ]
    },
    {
     "name": "stdout",
     "output_type": "stream",
     "text": [
      "Epoch [4/30] | Train Loss: 0.0117 | Train Acc: 0.9957 | Val Loss: 0.0720 | Val Acc: 0.9752\n"
     ]
    },
    {
     "name": "stderr",
     "output_type": "stream",
     "text": [
      "                                                             \r"
     ]
    },
    {
     "name": "stdout",
     "output_type": "stream",
     "text": [
      "Epoch [5/30] | Train Loss: 0.0138 | Train Acc: 0.9959 | Val Loss: 0.0684 | Val Acc: 0.9761\n"
     ]
    },
    {
     "name": "stderr",
     "output_type": "stream",
     "text": [
      "                                                             \r"
     ]
    },
    {
     "name": "stdout",
     "output_type": "stream",
     "text": [
      "Epoch [6/30] | Train Loss: 0.0082 | Train Acc: 0.9974 | Val Loss: 0.0633 | Val Acc: 0.9819\n"
     ]
    },
    {
     "name": "stderr",
     "output_type": "stream",
     "text": [
      "                                                             \r"
     ]
    },
    {
     "name": "stdout",
     "output_type": "stream",
     "text": [
      "Epoch [7/30] | Train Loss: 0.0039 | Train Acc: 0.9998 | Val Loss: 0.0691 | Val Acc: 0.9819\n"
     ]
    },
    {
     "name": "stderr",
     "output_type": "stream",
     "text": [
      "                                                             \r"
     ]
    },
    {
     "name": "stdout",
     "output_type": "stream",
     "text": [
      "Epoch [8/30] | Train Loss: 0.0033 | Train Acc: 0.9993 | Val Loss: 0.0651 | Val Acc: 0.9809\n"
     ]
    },
    {
     "name": "stderr",
     "output_type": "stream",
     "text": [
      "                                                             \r"
     ]
    },
    {
     "name": "stdout",
     "output_type": "stream",
     "text": [
      "Epoch [9/30] | Train Loss: 0.0026 | Train Acc: 1.0000 | Val Loss: 0.0678 | Val Acc: 0.9790\n"
     ]
    },
    {
     "name": "stderr",
     "output_type": "stream",
     "text": [
      "                                                              \r"
     ]
    },
    {
     "name": "stdout",
     "output_type": "stream",
     "text": [
      "Epoch [10/30] | Train Loss: 0.0023 | Train Acc: 0.9998 | Val Loss: 0.0664 | Val Acc: 0.9809\n"
     ]
    },
    {
     "name": "stderr",
     "output_type": "stream",
     "text": [
      "                                                              \r"
     ]
    },
    {
     "name": "stdout",
     "output_type": "stream",
     "text": [
      "Epoch [11/30] | Train Loss: 0.0019 | Train Acc: 0.9998 | Val Loss: 0.0688 | Val Acc: 0.9790\n",
      "Early stopping triggered.\n"
     ]
    }
   ],
   "source": [
    "train_model(resnet50_model, train_loader, val_loader, criterion, device=device,\n",
    "            epochs=EPOCHS, patience=PATIENCE, save_path='Best_resnet50.pth')"
   ]
  },
  {
   "cell_type": "markdown",
   "id": "660dd872",
   "metadata": {},
   "source": [
    "### 2.Evaluate the model on the test data"
   ]
  },
  {
   "cell_type": "code",
   "execution_count": 45,
   "id": "23e38886",
   "metadata": {},
   "outputs": [
    {
     "name": "stderr",
     "output_type": "stream",
     "text": [
      "                                                        \r"
     ]
    },
    {
     "name": "stdout",
     "output_type": "stream",
     "text": [
      "\n",
      "Final Test Loss: 0.3947 | Final Test Accuracy: 0.8814\n",
      "\n",
      "Classification Report:\n",
      "              precision    recall  f1-score   support\n",
      "\n",
      "      NORMAL       0.99      0.69      0.81       234\n",
      "   PNEUMONIA       0.84      0.99      0.91       390\n",
      "\n",
      "    accuracy                           0.88       624\n",
      "   macro avg       0.92      0.84      0.86       624\n",
      "weighted avg       0.90      0.88      0.88       624\n",
      "\n",
      "\n",
      "Confusion Matrix:\n",
      "[[162  72]\n",
      " [  2 388]]\n"
     ]
    },
    {
     "data": {
      "image/png": "[encoded data removed]",
      "text/plain": [
       "<Figure size 600x500 with 2 Axes>"
      ]
     },
     "metadata": {},
     "output_type": "display_data"
    }
   ],
   "source": [
    "test_loss, test_acc, all_preds, all_labels = evaluate_model(resnet50_model,'Best_resnet50.pth', test_loader, criterion, device)"
   ]
  },
  {
   "cell_type": "markdown",
   "id": "5f044c00",
   "metadata": {},
   "source": [
    "## **MobileNet Model**"
   ]
  },
  {
   "cell_type": "code",
   "execution_count": 46,
   "id": "9a7a3008",
   "metadata": {},
   "outputs": [
    {
     "name": "stderr",
     "output_type": "stream",
     "text": [
      "c:\\Users\\yosef\\anaconda3\\Lib\\site-packages\\torchvision\\models\\_utils.py:208: UserWarning: The parameter 'pretrained' is deprecated since 0.13 and may be removed in the future, please use 'weights' instead.\n",
      "  warnings.warn(\n",
      "c:\\Users\\yosef\\anaconda3\\Lib\\site-packages\\torchvision\\models\\_utils.py:223: UserWarning: Arguments other than a weight enum or `None` for 'weights' are deprecated since 0.13 and may be removed in the future. The current behavior is equivalent to passing `weights=MobileNet_V3_Small_Weights.IMAGENET1K_V1`. You can also use `weights=MobileNet_V3_Small_Weights.DEFAULT` to get the most up-to-date weights.\n",
      "  warnings.warn(msg)\n"
     ]
    }
   ],
   "source": [
    "mobilenet_model = models.mobilenet_v3_small(pretrained=True)\n",
    "\n",
    "for param in mobilenet_model.parameters():\n",
    "    param.requires_grad = False\n",
    "\n",
    "for name, param in mobilenet_model.features[11:13].named_parameters():\n",
    "    param.requires_grad = True\n",
    "for name, param in mobilenet_model.features[10].named_parameters():\n",
    "    if 'bn' in name:\n",
    "        param.requires_grad = True\n",
    "\n",
    "num_features = mobilenet_model.classifier[0].in_features\n",
    "mobilenet_model.classifier = nn.Sequential(\n",
    "    nn.Dropout(0.5),\n",
    "    nn.Linear(num_features, 1)\n",
    ")\n",
    "\n",
    "mobilenet_model = mobilenet_model.to(device)"
   ]
  },
  {
   "cell_type": "markdown",
   "id": "46b04044",
   "metadata": {},
   "source": [
    "### 1.Train MobileNet Model "
   ]
  },
  {
   "cell_type": "code",
   "execution_count": 32,
   "id": "dc51e159",
   "metadata": {},
   "outputs": [
    {
     "name": "stderr",
     "output_type": "stream",
     "text": [
      "                                                             \r"
     ]
    },
    {
     "name": "stdout",
     "output_type": "stream",
     "text": [
      "Epoch [1/30] | Train Loss: 0.3705 | Train Acc: 0.8459 | Val Loss: 0.4293 | Val Acc: 0.7755\n"
     ]
    },
    {
     "name": "stderr",
     "output_type": "stream",
     "text": [
      "                                                             \r"
     ]
    },
    {
     "name": "stdout",
     "output_type": "stream",
     "text": [
      "Epoch [2/30] | Train Loss: 0.1767 | Train Acc: 0.9484 | Val Loss: 0.6159 | Val Acc: 0.7526\n"
     ]
    },
    {
     "name": "stderr",
     "output_type": "stream",
     "text": [
      "                                                             \r"
     ]
    },
    {
     "name": "stdout",
     "output_type": "stream",
     "text": [
      "Epoch [3/30] | Train Loss: 0.1246 | Train Acc: 0.9601 | Val Loss: 0.6607 | Val Acc: 0.7507\n"
     ]
    },
    {
     "name": "stderr",
     "output_type": "stream",
     "text": [
      "                                                             \r"
     ]
    },
    {
     "name": "stdout",
     "output_type": "stream",
     "text": [
      "Epoch [4/30] | Train Loss: 0.1038 | Train Acc: 0.9661 | Val Loss: 0.6318 | Val Acc: 0.7727\n"
     ]
    },
    {
     "name": "stderr",
     "output_type": "stream",
     "text": [
      "                                                             \r"
     ]
    },
    {
     "name": "stdout",
     "output_type": "stream",
     "text": [
      "Epoch [5/30] | Train Loss: 0.0847 | Train Acc: 0.9716 | Val Loss: 0.1845 | Val Acc: 0.9226\n"
     ]
    },
    {
     "name": "stderr",
     "output_type": "stream",
     "text": [
      "                                                             \r"
     ]
    },
    {
     "name": "stdout",
     "output_type": "stream",
     "text": [
      "Epoch [6/30] | Train Loss: 0.0770 | Train Acc: 0.9742 | Val Loss: 0.1065 | Val Acc: 0.9580\n"
     ]
    },
    {
     "name": "stderr",
     "output_type": "stream",
     "text": [
      "                                                             \r"
     ]
    },
    {
     "name": "stdout",
     "output_type": "stream",
     "text": [
      "Epoch [7/30] | Train Loss: 0.0708 | Train Acc: 0.9749 | Val Loss: 0.1043 | Val Acc: 0.9589\n"
     ]
    },
    {
     "name": "stderr",
     "output_type": "stream",
     "text": [
      "                                                             \r"
     ]
    },
    {
     "name": "stdout",
     "output_type": "stream",
     "text": [
      "Epoch [8/30] | Train Loss: 0.0768 | Train Acc: 0.9720 | Val Loss: 0.0935 | Val Acc: 0.9656\n"
     ]
    },
    {
     "name": "stderr",
     "output_type": "stream",
     "text": [
      "                                                             \r"
     ]
    },
    {
     "name": "stdout",
     "output_type": "stream",
     "text": [
      "Epoch [9/30] | Train Loss: 0.0699 | Train Acc: 0.9754 | Val Loss: 0.0873 | Val Acc: 0.9685\n"
     ]
    },
    {
     "name": "stderr",
     "output_type": "stream",
     "text": [
      "                                                              \r"
     ]
    },
    {
     "name": "stdout",
     "output_type": "stream",
     "text": [
      "Epoch [10/30] | Train Loss: 0.0670 | Train Acc: 0.9785 | Val Loss: 0.0861 | Val Acc: 0.9675\n"
     ]
    },
    {
     "name": "stderr",
     "output_type": "stream",
     "text": [
      "                                                              \r"
     ]
    },
    {
     "name": "stdout",
     "output_type": "stream",
     "text": [
      "Epoch [11/30] | Train Loss: 0.0686 | Train Acc: 0.9759 | Val Loss: 0.0857 | Val Acc: 0.9685\n"
     ]
    },
    {
     "name": "stderr",
     "output_type": "stream",
     "text": [
      "                                                              \r"
     ]
    },
    {
     "name": "stdout",
     "output_type": "stream",
     "text": [
      "Epoch [12/30] | Train Loss: 0.0665 | Train Acc: 0.9778 | Val Loss: 0.0856 | Val Acc: 0.9666\n"
     ]
    },
    {
     "name": "stderr",
     "output_type": "stream",
     "text": [
      "                                                              \r"
     ]
    },
    {
     "name": "stdout",
     "output_type": "stream",
     "text": [
      "Epoch [13/30] | Train Loss: 0.0678 | Train Acc: 0.9763 | Val Loss: 0.0851 | Val Acc: 0.9675\n"
     ]
    },
    {
     "name": "stderr",
     "output_type": "stream",
     "text": [
      "                                                              \r"
     ]
    },
    {
     "name": "stdout",
     "output_type": "stream",
     "text": [
      "Epoch [14/30] | Train Loss: 0.0659 | Train Acc: 0.9756 | Val Loss: 0.0852 | Val Acc: 0.9675\n",
      "Early stopping triggered.\n"
     ]
    }
   ],
   "source": [
    "train_model(mobilenet_model, train_loader, val_loader, criterion, device=device,\n",
    "            epochs=EPOCHS, patience=PATIENCE, save_path='Best_mobilenet.pth')\n"
   ]
  },
  {
   "cell_type": "markdown",
   "id": "81b52069",
   "metadata": {},
   "source": [
    "### 2.Test The MobileNet Model"
   ]
  },
  {
   "cell_type": "code",
   "execution_count": 47,
   "id": "d5607006",
   "metadata": {},
   "outputs": [
    {
     "name": "stderr",
     "output_type": "stream",
     "text": [
      "                                                        \r"
     ]
    },
    {
     "name": "stdout",
     "output_type": "stream",
     "text": [
      "\n",
      "Final Test Loss: 0.3010 | Final Test Accuracy: 0.8718\n",
      "\n",
      "Classification Report:\n",
      "              precision    recall  f1-score   support\n",
      "\n",
      "      NORMAL       0.97      0.68      0.80       234\n",
      "   PNEUMONIA       0.84      0.99      0.91       390\n",
      "\n",
      "    accuracy                           0.87       624\n",
      "   macro avg       0.90      0.83      0.85       624\n",
      "weighted avg       0.89      0.87      0.87       624\n",
      "\n",
      "\n",
      "Confusion Matrix:\n",
      "[[159  75]\n",
      " [  5 385]]\n"
     ]
    },
    {
     "data": {
      "image/png": "[encoded data removed]",
      "text/plain": [
       "<Figure size 600x500 with 2 Axes>"
      ]
     },
     "metadata": {},
     "output_type": "display_data"
    }
   ],
   "source": [
    "test_loss, test_acc, all_preds, all_labels = evaluate_model(mobilenet_model, 'Best_mobilenet.pth', test_loader, criterion, device)"
   ]
  },
  {
   "cell_type": "markdown",
   "id": "e1da5614",
   "metadata": {},
   "source": [
    "## **DenseNet121**"
   ]
  },
  {
   "cell_type": "code",
   "execution_count": 48,
   "id": "74b68e20",
   "metadata": {},
   "outputs": [
    {
     "name": "stderr",
     "output_type": "stream",
     "text": [
      "c:\\Users\\yosef\\anaconda3\\Lib\\site-packages\\torchvision\\models\\_utils.py:208: UserWarning: The parameter 'pretrained' is deprecated since 0.13 and may be removed in the future, please use 'weights' instead.\n",
      "  warnings.warn(\n",
      "c:\\Users\\yosef\\anaconda3\\Lib\\site-packages\\torchvision\\models\\_utils.py:223: UserWarning: Arguments other than a weight enum or `None` for 'weights' are deprecated since 0.13 and may be removed in the future. The current behavior is equivalent to passing `weights=DenseNet121_Weights.IMAGENET1K_V1`. You can also use `weights=DenseNet121_Weights.DEFAULT` to get the most up-to-date weights.\n",
      "  warnings.warn(msg)\n"
     ]
    }
   ],
   "source": [
    "import torch.nn as nn\n",
    "from torchvision import models\n",
    "\n",
    "densenet_model = models.densenet121(pretrained=True)\n",
    "\n",
    "for param in densenet_model.parameters():\n",
    "    param.requires_grad = False\n",
    "\n",
    "for name, param in densenet_model.features.denseblock4.named_parameters():\n",
    "    param.requires_grad = True\n",
    "for name, param in densenet_model.features.norm5.named_parameters():\n",
    "    param.requires_grad = True\n",
    "\n",
    "num_features = densenet_model.classifier.in_features\n",
    "densenet_model.classifier = nn.Sequential(\n",
    "    nn.Dropout(0.5),\n",
    "    nn.Linear(num_features, 1)\n",
    ")\n",
    "\n",
    "densenet_model = densenet_model.to(device)\n"
   ]
  },
  {
   "cell_type": "markdown",
   "id": "88c149e3",
   "metadata": {},
   "source": [
    "### 1.Train Densenet121"
   ]
  },
  {
   "cell_type": "code",
   "execution_count": 60,
   "id": "eaa6f869",
   "metadata": {},
   "outputs": [
    {
     "name": "stderr",
     "output_type": "stream",
     "text": [
      "                                                             \r"
     ]
    },
    {
     "name": "stdout",
     "output_type": "stream",
     "text": [
      "Epoch [1/30] | Train Loss: 0.2437 | Train Acc: 0.9054 | Val Loss: 0.1155 | Val Acc: 0.9608\n"
     ]
    },
    {
     "name": "stderr",
     "output_type": "stream",
     "text": [
      "                                                             \r"
     ]
    },
    {
     "name": "stdout",
     "output_type": "stream",
     "text": [
      "Epoch [2/30] | Train Loss: 0.0947 | Train Acc: 0.9656 | Val Loss: 0.0832 | Val Acc: 0.9694\n"
     ]
    },
    {
     "name": "stderr",
     "output_type": "stream",
     "text": [
      "                                                             \r"
     ]
    },
    {
     "name": "stdout",
     "output_type": "stream",
     "text": [
      "Epoch [3/30] | Train Loss: 0.0468 | Train Acc: 0.9881 | Val Loss: 0.0808 | Val Acc: 0.9733\n"
     ]
    },
    {
     "name": "stderr",
     "output_type": "stream",
     "text": [
      "                                                             \r"
     ]
    },
    {
     "name": "stdout",
     "output_type": "stream",
     "text": [
      "Epoch [4/30] | Train Loss: 0.0261 | Train Acc: 0.9952 | Val Loss: 0.0711 | Val Acc: 0.9752\n"
     ]
    },
    {
     "name": "stderr",
     "output_type": "stream",
     "text": [
      "                                                             \r"
     ]
    },
    {
     "name": "stdout",
     "output_type": "stream",
     "text": [
      "Epoch [5/30] | Train Loss: 0.0148 | Train Acc: 0.9971 | Val Loss: 0.0705 | Val Acc: 0.9780\n"
     ]
    },
    {
     "name": "stderr",
     "output_type": "stream",
     "text": [
      "                                                             \r"
     ]
    },
    {
     "name": "stdout",
     "output_type": "stream",
     "text": [
      "Epoch [6/30] | Train Loss: 0.0106 | Train Acc: 0.9981 | Val Loss: 0.0704 | Val Acc: 0.9771\n"
     ]
    },
    {
     "name": "stderr",
     "output_type": "stream",
     "text": [
      "                                                             \r"
     ]
    },
    {
     "name": "stdout",
     "output_type": "stream",
     "text": [
      "Epoch [7/30] | Train Loss: 0.0129 | Train Acc: 0.9974 | Val Loss: 0.0694 | Val Acc: 0.9761\n"
     ]
    },
    {
     "name": "stderr",
     "output_type": "stream",
     "text": [
      "                                                             \r"
     ]
    },
    {
     "name": "stdout",
     "output_type": "stream",
     "text": [
      "Epoch [8/30] | Train Loss: 0.0080 | Train Acc: 0.9995 | Val Loss: 0.0701 | Val Acc: 0.9761\n"
     ]
    },
    {
     "name": "stderr",
     "output_type": "stream",
     "text": [
      "                                                             \r"
     ]
    },
    {
     "name": "stdout",
     "output_type": "stream",
     "text": [
      "Epoch [9/30] | Train Loss: 0.0096 | Train Acc: 0.9990 | Val Loss: 0.0718 | Val Acc: 0.9761\n"
     ]
    },
    {
     "name": "stderr",
     "output_type": "stream",
     "text": [
      "                                                              \r"
     ]
    },
    {
     "name": "stdout",
     "output_type": "stream",
     "text": [
      "Epoch [10/30] | Train Loss: 0.0092 | Train Acc: 0.9986 | Val Loss: 0.0719 | Val Acc: 0.9771\n",
      "Early stopping triggered.\n"
     ]
    }
   ],
   "source": [
    "train_model(densenet_model, train_loader, val_loader, criterion, device=device,\n",
    "            epochs=EPOCHS, patience=PATIENCE, save_path='best_densenet_model.pth')"
   ]
  },
  {
   "cell_type": "markdown",
   "id": "d206436a",
   "metadata": {},
   "source": [
    "### 2.Test Densenet121"
   ]
  },
  {
   "cell_type": "code",
   "execution_count": 49,
   "id": "794b7a8e",
   "metadata": {},
   "outputs": [
    {
     "name": "stderr",
     "output_type": "stream",
     "text": [
      "                                                        \r"
     ]
    },
    {
     "name": "stdout",
     "output_type": "stream",
     "text": [
      "\n",
      "Final Test Loss: 0.3012 | Final Test Accuracy: 0.8910\n",
      "\n",
      "Classification Report:\n",
      "              precision    recall  f1-score   support\n",
      "\n",
      "      NORMAL       0.98      0.73      0.83       234\n",
      "   PNEUMONIA       0.86      0.99      0.92       390\n",
      "\n",
      "    accuracy                           0.89       624\n",
      "   macro avg       0.92      0.86      0.88       624\n",
      "weighted avg       0.90      0.89      0.89       624\n",
      "\n",
      "\n",
      "Confusion Matrix:\n",
      "[[170  64]\n",
      " [  4 386]]\n"
     ]
    },
    {
     "data": {
      "image/png": "[encoded data removed]",
      "text/plain": [
       "<Figure size 600x500 with 2 Axes>"
      ]
     },
     "metadata": {},
     "output_type": "display_data"
    }
   ],
   "source": [
    "test_loss, test_acc, all_preds, all_labels = evaluate_model(densenet_model,'best_densenet_model.pth', test_loader, criterion, device)"
   ]
  },
  {
   "cell_type": "markdown",
   "id": "d3ecb54e",
   "metadata": {},
   "source": [
    "## **EfficientNet_b0**"
   ]
  },
  {
   "cell_type": "code",
   "execution_count": 50,
   "id": "2c57235a",
   "metadata": {},
   "outputs": [
    {
     "name": "stderr",
     "output_type": "stream",
     "text": [
      "c:\\Users\\yosef\\anaconda3\\Lib\\site-packages\\torchvision\\models\\_utils.py:208: UserWarning: The parameter 'pretrained' is deprecated since 0.13 and may be removed in the future, please use 'weights' instead.\n",
      "  warnings.warn(\n",
      "c:\\Users\\yosef\\anaconda3\\Lib\\site-packages\\torchvision\\models\\_utils.py:223: UserWarning: Arguments other than a weight enum or `None` for 'weights' are deprecated since 0.13 and may be removed in the future. The current behavior is equivalent to passing `weights=EfficientNet_B0_Weights.IMAGENET1K_V1`. You can also use `weights=EfficientNet_B0_Weights.DEFAULT` to get the most up-to-date weights.\n",
      "  warnings.warn(msg)\n"
     ]
    }
   ],
   "source": [
    "efficientnet_model = models.efficientnet_b0(pretrained=True)\n",
    "\n",
    "for param in efficientnet_model.parameters():\n",
    "    param.requires_grad = False\n",
    "\n",
    "for name, param in efficientnet_model.features[-2:].named_parameters():\n",
    "    param.requires_grad = True\n",
    "\n",
    "num_features = efficientnet_model.classifier[1].in_features\n",
    "efficientnet_model.classifier = nn.Sequential(\n",
    "    nn.Dropout(0.4),\n",
    "    nn.Linear(num_features, 1)\n",
    ")\n",
    "\n",
    "efficientnet_model = efficientnet_model.to(device)"
   ]
  },
  {
   "cell_type": "markdown",
   "id": "ffc6fe4b",
   "metadata": {},
   "source": [
    "### 1.Train EfficientNetB0"
   ]
  },
  {
   "cell_type": "code",
   "execution_count": 76,
   "id": "a27c2060",
   "metadata": {},
   "outputs": [
    {
     "name": "stderr",
     "output_type": "stream",
     "text": [
      "                                                             \r"
     ]
    },
    {
     "name": "stdout",
     "output_type": "stream",
     "text": [
      "Epoch [1/30] | Train Loss: 0.3488 | Train Acc: 0.8793 | Val Loss: 0.1935 | Val Acc: 0.9303\n"
     ]
    },
    {
     "name": "stderr",
     "output_type": "stream",
     "text": [
      "                                                             \r"
     ]
    },
    {
     "name": "stdout",
     "output_type": "stream",
     "text": [
      "Epoch [2/30] | Train Loss: 0.1614 | Train Acc: 0.9462 | Val Loss: 0.1305 | Val Acc: 0.9542\n"
     ]
    },
    {
     "name": "stderr",
     "output_type": "stream",
     "text": [
      "                                                             \r"
     ]
    },
    {
     "name": "stdout",
     "output_type": "stream",
     "text": [
      "Epoch [3/30] | Train Loss: 0.1275 | Train Acc: 0.9524 | Val Loss: 0.1158 | Val Acc: 0.9589\n"
     ]
    },
    {
     "name": "stderr",
     "output_type": "stream",
     "text": [
      "                                                             \r"
     ]
    },
    {
     "name": "stdout",
     "output_type": "stream",
     "text": [
      "Epoch [4/30] | Train Loss: 0.0939 | Train Acc: 0.9689 | Val Loss: 0.1116 | Val Acc: 0.9618\n"
     ]
    },
    {
     "name": "stderr",
     "output_type": "stream",
     "text": [
      "                                                             \r"
     ]
    },
    {
     "name": "stdout",
     "output_type": "stream",
     "text": [
      "Epoch [5/30] | Train Loss: 0.0787 | Train Acc: 0.9720 | Val Loss: 0.1085 | Val Acc: 0.9618\n"
     ]
    },
    {
     "name": "stderr",
     "output_type": "stream",
     "text": [
      "                                                             \r"
     ]
    },
    {
     "name": "stdout",
     "output_type": "stream",
     "text": [
      "Epoch [6/30] | Train Loss: 0.0725 | Train Acc: 0.9775 | Val Loss: 0.1075 | Val Acc: 0.9599\n"
     ]
    },
    {
     "name": "stderr",
     "output_type": "stream",
     "text": [
      "                                                             \r"
     ]
    },
    {
     "name": "stdout",
     "output_type": "stream",
     "text": [
      "Epoch [7/30] | Train Loss: 0.0726 | Train Acc: 0.9768 | Val Loss: 0.1046 | Val Acc: 0.9599\n"
     ]
    },
    {
     "name": "stderr",
     "output_type": "stream",
     "text": [
      "                                                             \r"
     ]
    },
    {
     "name": "stdout",
     "output_type": "stream",
     "text": [
      "Epoch [8/30] | Train Loss: 0.0730 | Train Acc: 0.9780 | Val Loss: 0.1064 | Val Acc: 0.9618\n"
     ]
    },
    {
     "name": "stderr",
     "output_type": "stream",
     "text": [
      "                                                             \r"
     ]
    },
    {
     "name": "stdout",
     "output_type": "stream",
     "text": [
      "Epoch [9/30] | Train Loss: 0.0731 | Train Acc: 0.9742 | Val Loss: 0.1056 | Val Acc: 0.9608\n",
      "Early stopping triggered.\n"
     ]
    }
   ],
   "source": [
    "train_model(efficientnet_model, train_loader, val_loader, criterion, device=device,\n",
    "            epochs=EPOCHS, patience=PATIENCE, save_path='best_efficientnet_model.pth')"
   ]
  },
  {
   "cell_type": "markdown",
   "id": "54fe086b",
   "metadata": {},
   "source": [
    "### 2.Test EfficientNetB0"
   ]
  },
  {
   "cell_type": "code",
   "execution_count": 51,
   "id": "ca6eac67",
   "metadata": {},
   "outputs": [
    {
     "name": "stderr",
     "output_type": "stream",
     "text": [
      "                                                        \r"
     ]
    },
    {
     "name": "stdout",
     "output_type": "stream",
     "text": [
      "\n",
      "Final Test Loss: 0.3300 | Final Test Accuracy: 0.8910\n",
      "\n",
      "Classification Report:\n",
      "              precision    recall  f1-score   support\n",
      "\n",
      "      NORMAL       0.96      0.74      0.84       234\n",
      "   PNEUMONIA       0.86      0.98      0.92       390\n",
      "\n",
      "    accuracy                           0.89       624\n",
      "   macro avg       0.91      0.86      0.88       624\n",
      "weighted avg       0.90      0.89      0.89       624\n",
      "\n",
      "\n",
      "Confusion Matrix:\n",
      "[[173  61]\n",
      " [  7 383]]\n"
     ]
    },
    {
     "data": {
      "image/png": "[encoded data removed]",
      "text/plain": [
       "<Figure size 600x500 with 2 Axes>"
      ]
     },
     "metadata": {},
     "output_type": "display_data"
    }
   ],
   "source": [
    "test_loss, test_acc, all_preds, all_labels = evaluate_model(efficientnet_model, 'best_efficientnet_model.pth', test_loader, criterion, device)"
   ]
  },
  {
   "cell_type": "markdown",
   "id": "1e489896",
   "metadata": {},
   "source": [
    "## **ResNet34**"
   ]
  },
  {
   "cell_type": "code",
   "execution_count": 52,
   "id": "75f0f78c",
   "metadata": {},
   "outputs": [
    {
     "name": "stderr",
     "output_type": "stream",
     "text": [
      "c:\\Users\\yosef\\anaconda3\\Lib\\site-packages\\torchvision\\models\\_utils.py:208: UserWarning: The parameter 'pretrained' is deprecated since 0.13 and may be removed in the future, please use 'weights' instead.\n",
      "  warnings.warn(\n",
      "c:\\Users\\yosef\\anaconda3\\Lib\\site-packages\\torchvision\\models\\_utils.py:223: UserWarning: Arguments other than a weight enum or `None` for 'weights' are deprecated since 0.13 and may be removed in the future. The current behavior is equivalent to passing `weights=ResNet34_Weights.IMAGENET1K_V1`. You can also use `weights=ResNet34_Weights.DEFAULT` to get the most up-to-date weights.\n",
      "  warnings.warn(msg)\n"
     ]
    }
   ],
   "source": [
    "resnet_model = models.resnet34(pretrained=True)\n",
    "\n",
    "for param in resnet_model.parameters():\n",
    "    param.requires_grad = False\n",
    "\n",
    "for name, param in resnet_model.layer4.named_parameters():\n",
    "    param.requires_grad = True\n",
    "for name, param in resnet_model.fc.named_parameters():\n",
    "    param.requires_grad = True\n",
    "\n",
    "num_features = resnet_model.fc.in_features\n",
    "resnet_model.fc = nn.Sequential(\n",
    "    nn.Dropout(0.5),\n",
    "    nn.Linear(num_features, 1)\n",
    ")\n",
    "\n",
    "resnet_model = resnet_model.to(device)"
   ]
  },
  {
   "cell_type": "markdown",
   "id": "26d26e68",
   "metadata": {},
   "source": [
    "### 1.Train ResNet34"
   ]
  },
  {
   "cell_type": "code",
   "execution_count": 79,
   "id": "906a6e6c",
   "metadata": {},
   "outputs": [
    {
     "name": "stderr",
     "output_type": "stream",
     "text": [
      "                                                             \r"
     ]
    },
    {
     "name": "stdout",
     "output_type": "stream",
     "text": [
      "Epoch [1/30] | Train Loss: 0.1580 | Train Acc: 0.9438 | Val Loss: 0.0808 | Val Acc: 0.9666\n"
     ]
    },
    {
     "name": "stderr",
     "output_type": "stream",
     "text": [
      "                                                             \r"
     ]
    },
    {
     "name": "stdout",
     "output_type": "stream",
     "text": [
      "Epoch [2/30] | Train Loss: 0.0467 | Train Acc: 0.9838 | Val Loss: 0.0625 | Val Acc: 0.9761\n"
     ]
    },
    {
     "name": "stderr",
     "output_type": "stream",
     "text": [
      "                                                             \r"
     ]
    },
    {
     "name": "stdout",
     "output_type": "stream",
     "text": [
      "Epoch [3/30] | Train Loss: 0.0380 | Train Acc: 0.9869 | Val Loss: 0.0556 | Val Acc: 0.9838\n"
     ]
    },
    {
     "name": "stderr",
     "output_type": "stream",
     "text": [
      "                                                             \r"
     ]
    },
    {
     "name": "stdout",
     "output_type": "stream",
     "text": [
      "Epoch [4/30] | Train Loss: 0.0102 | Train Acc: 0.9988 | Val Loss: 0.0554 | Val Acc: 0.9828\n"
     ]
    },
    {
     "name": "stderr",
     "output_type": "stream",
     "text": [
      "                                                             \r"
     ]
    },
    {
     "name": "stdout",
     "output_type": "stream",
     "text": [
      "Epoch [5/30] | Train Loss: 0.0136 | Train Acc: 0.9964 | Val Loss: 0.0555 | Val Acc: 0.9828\n"
     ]
    },
    {
     "name": "stderr",
     "output_type": "stream",
     "text": [
      "                                                             \r"
     ]
    },
    {
     "name": "stdout",
     "output_type": "stream",
     "text": [
      "Epoch [6/30] | Train Loss: 0.0085 | Train Acc: 0.9983 | Val Loss: 0.0457 | Val Acc: 0.9847\n"
     ]
    },
    {
     "name": "stderr",
     "output_type": "stream",
     "text": [
      "                                                             \r"
     ]
    },
    {
     "name": "stdout",
     "output_type": "stream",
     "text": [
      "Epoch [7/30] | Train Loss: 0.0053 | Train Acc: 0.9995 | Val Loss: 0.0451 | Val Acc: 0.9847\n"
     ]
    },
    {
     "name": "stderr",
     "output_type": "stream",
     "text": [
      "                                                             \r"
     ]
    },
    {
     "name": "stdout",
     "output_type": "stream",
     "text": [
      "Epoch [8/30] | Train Loss: 0.0042 | Train Acc: 0.9995 | Val Loss: 0.0450 | Val Acc: 0.9857\n"
     ]
    },
    {
     "name": "stderr",
     "output_type": "stream",
     "text": [
      "                                                             \r"
     ]
    },
    {
     "name": "stdout",
     "output_type": "stream",
     "text": [
      "Epoch [9/30] | Train Loss: 0.0049 | Train Acc: 0.9990 | Val Loss: 0.0444 | Val Acc: 0.9847\n"
     ]
    },
    {
     "name": "stderr",
     "output_type": "stream",
     "text": [
      "                                                              \r"
     ]
    },
    {
     "name": "stdout",
     "output_type": "stream",
     "text": [
      "Epoch [10/30] | Train Loss: 0.0048 | Train Acc: 0.9993 | Val Loss: 0.0448 | Val Acc: 0.9857\n"
     ]
    },
    {
     "name": "stderr",
     "output_type": "stream",
     "text": [
      "                                                              \r"
     ]
    },
    {
     "name": "stdout",
     "output_type": "stream",
     "text": [
      "Epoch [11/30] | Train Loss: 0.0037 | Train Acc: 0.9998 | Val Loss: 0.0447 | Val Acc: 0.9847\n"
     ]
    },
    {
     "name": "stderr",
     "output_type": "stream",
     "text": [
      "                                                              \r"
     ]
    },
    {
     "name": "stdout",
     "output_type": "stream",
     "text": [
      "Epoch [12/30] | Train Loss: 0.0032 | Train Acc: 0.9998 | Val Loss: 0.0438 | Val Acc: 0.9847\n"
     ]
    },
    {
     "name": "stderr",
     "output_type": "stream",
     "text": [
      "                                                              \r"
     ]
    },
    {
     "name": "stdout",
     "output_type": "stream",
     "text": [
      "Epoch [13/30] | Train Loss: 0.0032 | Train Acc: 0.9998 | Val Loss: 0.0456 | Val Acc: 0.9857\n",
      "Early stopping triggered.\n"
     ]
    }
   ],
   "source": [
    "train_model(resnet_model, train_loader, val_loader, criterion, device=device,\n",
    "            epochs=EPOCHS, patience=PATIENCE, save_path='best_resnet34_model.pth')"
   ]
  },
  {
   "cell_type": "markdown",
   "id": "76d409d4",
   "metadata": {},
   "source": [
    "### 2.Test ResNet34"
   ]
  },
  {
   "cell_type": "code",
   "execution_count": 53,
   "id": "b63eba18",
   "metadata": {},
   "outputs": [
    {
     "name": "stderr",
     "output_type": "stream",
     "text": [
      "                                                        \r"
     ]
    },
    {
     "name": "stdout",
     "output_type": "stream",
     "text": [
      "\n",
      "Final Test Loss: 0.4194 | Final Test Accuracy: 0.8718\n",
      "\n",
      "Classification Report:\n",
      "              precision    recall  f1-score   support\n",
      "\n",
      "      NORMAL       0.98      0.67      0.80       234\n",
      "   PNEUMONIA       0.83      0.99      0.91       390\n",
      "\n",
      "    accuracy                           0.87       624\n",
      "   macro avg       0.91      0.83      0.85       624\n",
      "weighted avg       0.89      0.87      0.87       624\n",
      "\n",
      "\n",
      "Confusion Matrix:\n",
      "[[157  77]\n",
      " [  3 387]]\n"
     ]
    },
    {
     "data": {
      "image/png": "[encoded data removed]",
      "text/plain": [
       "<Figure size 600x500 with 2 Axes>"
      ]
     },
     "metadata": {},
     "output_type": "display_data"
    }
   ],
   "source": [
    "test_loss, test_acc, all_preds, all_labels = evaluate_model(resnet_model, 'best_resnet34_model.pth', test_loader, criterion, device)"
   ]
  },
  {
   "cell_type": "markdown",
   "id": "df833cf6",
   "metadata": {},
   "source": [
    "## **VGG16**"
   ]
  },
  {
   "cell_type": "code",
   "execution_count": 54,
   "id": "d38ea607",
   "metadata": {},
   "outputs": [
    {
     "name": "stderr",
     "output_type": "stream",
     "text": [
      "c:\\Users\\yosef\\anaconda3\\Lib\\site-packages\\torchvision\\models\\_utils.py:208: UserWarning: The parameter 'pretrained' is deprecated since 0.13 and may be removed in the future, please use 'weights' instead.\n",
      "  warnings.warn(\n",
      "c:\\Users\\yosef\\anaconda3\\Lib\\site-packages\\torchvision\\models\\_utils.py:223: UserWarning: Arguments other than a weight enum or `None` for 'weights' are deprecated since 0.13 and may be removed in the future. The current behavior is equivalent to passing `weights=VGG16_BN_Weights.IMAGENET1K_V1`. You can also use `weights=VGG16_BN_Weights.DEFAULT` to get the most up-to-date weights.\n",
      "  warnings.warn(msg)\n"
     ]
    }
   ],
   "source": [
    "vgg_model = models.vgg16_bn(pretrained=True)\n",
    "\n",
    "for param in vgg_model.parameters():\n",
    "    param.requires_grad = False\n",
    "\n",
    "for name, param in vgg_model.features[24:].named_parameters():\n",
    "    param.requires_grad = True\n",
    "for name, param in vgg_model.classifier[6:].named_parameters():\n",
    "    param.requires_grad = True\n",
    "\n",
    "num_features = vgg_model.classifier[6].in_features\n",
    "vgg_model.classifier[6] = nn.Sequential(\n",
    "    nn.Dropout(0.5),\n",
    "    nn.Linear(num_features, 1)\n",
    ")\n",
    "\n",
    "vgg_model = vgg_model.to(device)"
   ]
  },
  {
   "cell_type": "markdown",
   "id": "32bf54d2",
   "metadata": {},
   "source": [
    "### 1.Train VGG16"
   ]
  },
  {
   "cell_type": "code",
   "execution_count": 82,
   "id": "f72bdf72",
   "metadata": {},
   "outputs": [
    {
     "name": "stderr",
     "output_type": "stream",
     "text": [
      "                                                             \r"
     ]
    },
    {
     "name": "stdout",
     "output_type": "stream",
     "text": [
      "Epoch [1/30] | Train Loss: 0.1687 | Train Acc: 0.9326 | Val Loss: 0.0495 | Val Acc: 0.9819\n"
     ]
    },
    {
     "name": "stderr",
     "output_type": "stream",
     "text": [
      "                                                             \r"
     ]
    },
    {
     "name": "stdout",
     "output_type": "stream",
     "text": [
      "Epoch [2/30] | Train Loss: 0.0424 | Train Acc: 0.9871 | Val Loss: 0.0613 | Val Acc: 0.9780\n"
     ]
    },
    {
     "name": "stderr",
     "output_type": "stream",
     "text": [
      "                                                             \r"
     ]
    },
    {
     "name": "stdout",
     "output_type": "stream",
     "text": [
      "Epoch [3/30] | Train Loss: 0.0227 | Train Acc: 0.9914 | Val Loss: 0.0574 | Val Acc: 0.9819\n"
     ]
    },
    {
     "name": "stderr",
     "output_type": "stream",
     "text": [
      "                                                             \r"
     ]
    },
    {
     "name": "stdout",
     "output_type": "stream",
     "text": [
      "Epoch [4/30] | Train Loss: 0.0126 | Train Acc: 0.9957 | Val Loss: 0.0685 | Val Acc: 0.9780\n"
     ]
    },
    {
     "name": "stderr",
     "output_type": "stream",
     "text": [
      "                                                             \r"
     ]
    },
    {
     "name": "stdout",
     "output_type": "stream",
     "text": [
      "Epoch [5/30] | Train Loss: 0.0097 | Train Acc: 0.9971 | Val Loss: 0.0884 | Val Acc: 0.9790\n"
     ]
    },
    {
     "name": "stderr",
     "output_type": "stream",
     "text": [
      "                                                             \r"
     ]
    },
    {
     "name": "stdout",
     "output_type": "stream",
     "text": [
      "Epoch [6/30] | Train Loss: 0.0034 | Train Acc: 0.9990 | Val Loss: 0.0770 | Val Acc: 0.9809\n",
      "Early stopping triggered.\n"
     ]
    }
   ],
   "source": [
    "train_model(vgg_model, train_loader, val_loader, criterion, device=device,\n",
    "            epochs=EPOCHS, patience=PATIENCE, save_path='best_vgg16_model.pth')"
   ]
  },
  {
   "cell_type": "markdown",
   "id": "1b117cad",
   "metadata": {},
   "source": [
    "### 2.Test VGG16"
   ]
  },
  {
   "cell_type": "code",
   "execution_count": 55,
   "id": "1b23fc6e",
   "metadata": {},
   "outputs": [
    {
     "name": "stderr",
     "output_type": "stream",
     "text": [
      "                                                        "
     ]
    },
    {
     "name": "stdout",
     "output_type": "stream",
     "text": [
      "\n",
      "Final Test Loss: 0.3099 | Final Test Accuracy: 0.8878\n",
      "\n",
      "Classification Report:\n",
      "              precision    recall  f1-score   support\n",
      "\n",
      "      NORMAL       0.98      0.71      0.83       234\n",
      "   PNEUMONIA       0.85      0.99      0.92       390\n",
      "\n",
      "    accuracy                           0.89       624\n",
      "   macro avg       0.92      0.85      0.87       624\n",
      "weighted avg       0.90      0.89      0.88       624\n",
      "\n",
      "\n",
      "Confusion Matrix:\n",
      "[[167  67]\n",
      " [  3 387]]\n"
     ]
    },
    {
     "name": "stderr",
     "output_type": "stream",
     "text": [
      "\r"
     ]
    },
    {
     "data": {
      "image/png": "[encoded data removed]",
      "text/plain": [
       "<Figure size 600x500 with 2 Axes>"
      ]
     },
     "metadata": {},
     "output_type": "display_data"
    }
   ],
   "source": [
    "test_loss, test_acc, all_preds, all_labels = evaluate_model(vgg_model, 'best_vgg16_model.pth', test_loader, criterion, device)"
   ]
  },
  {
   "cell_type": "markdown",
   "id": "53d4097e",
   "metadata": {},
   "source": [
    "## **EnsembleModel using some previous models**"
   ]
  },
  {
   "cell_type": "markdown",
   "id": "0e9942eb",
   "metadata": {},
   "source": [
    "## **load the models & get the predictions**"
   ]
  },
  {
   "cell_type": "code",
   "execution_count": 34,
   "id": "65432ad5",
   "metadata": {},
   "outputs": [],
   "source": [
    "def load_densenet():\n",
    "    model = models.densenet121(pretrained=False)\n",
    "    model.classifier = nn.Sequential(nn.Dropout(0.5), nn.Linear(model.classifier.in_features, 1))\n",
    "    model.load_state_dict(torch.load('best_densenet_model.pth', map_location=device))\n",
    "    return model.to(device).eval()\n",
    "\n",
    "def load_mobilenet():\n",
    "    model = models.mobilenet_v3_small(pretrained=False)\n",
    "    model.classifier = nn.Sequential(nn.Dropout(0.5), nn.Linear(model.classifier[0].in_features, 1))\n",
    "    model.load_state_dict(torch.load('Best_mobilenet.pth', map_location=device))\n",
    "    return model.to(device).eval()\n",
    "\n",
    "def load_efficientnet():\n",
    "    model = models.efficientnet_b0(pretrained=False)\n",
    "    model.classifier = nn.Sequential(nn.Dropout(0.4), nn.Linear(model.classifier[1].in_features, 1))\n",
    "    model.load_state_dict(torch.load('best_efficientnet_model.pth', map_location=device))\n",
    "    return model.to(device).eval()\n",
    "\n",
    "def load_vgg():\n",
    "    model = models.vgg16_bn(pretrained=False)\n",
    "    model.classifier[6] = nn.Sequential(nn.Dropout(0.5), nn.Linear(model.classifier[6].in_features, 1))\n",
    "    model.load_state_dict(torch.load('best_vgg16_model.pth', map_location=device))\n",
    "    return model.to(device).eval()"
   ]
  },
  {
   "cell_type": "code",
   "execution_count": null,
   "id": "0ff5a2c8",
   "metadata": {},
   "outputs": [],
   "source": []
  },
  {
   "cell_type": "markdown",
   "id": "f5410e6d",
   "metadata": {},
   "source": [
    "## **Ensemble Voting Hard & Soft**"
   ]
  },
  {
   "cell_type": "code",
   "execution_count": 83,
   "id": "1e32cd8f",
   "metadata": {},
   "outputs": [],
   "source": [
    "def ensemble_voting(models, dataloader):\n",
    "    all_soft_preds = []\n",
    "    all_hard_preds = []\n",
    "    all_labels = []\n",
    "\n",
    "    with torch.no_grad():\n",
    "        for images, labels in dataloader:\n",
    "            images = images.to(device)\n",
    "            batch_preds = []\n",
    "\n",
    "            for model in models:\n",
    "                outputs = model(images)\n",
    "                probs = torch.sigmoid(outputs).squeeze(1)\n",
    "                batch_preds.append(probs.cpu().numpy())\n",
    "\n",
    "            batch_preds = np.stack(batch_preds, axis=0)\n",
    "            soft_avg = np.mean(batch_preds, axis=0)\n",
    "            hard_votes = np.round(batch_preds)\n",
    "            hard_majority = np.round(np.mean(hard_votes, axis=0))\n",
    "\n",
    "            all_soft_preds.extend((soft_avg > 0.9).astype(int))\n",
    "            all_hard_preds.extend(hard_majority.astype(int))\n",
    "            all_labels.extend(labels.numpy())\n",
    "\n",
    "    return all_labels, all_soft_preds, all_hard_preds\n"
   ]
  },
  {
   "cell_type": "code",
   "execution_count": 84,
   "id": "e4f444f5",
   "metadata": {},
   "outputs": [
    {
     "name": "stderr",
     "output_type": "stream",
     "text": [
      "c:\\Users\\yosef\\anaconda3\\Lib\\site-packages\\torchvision\\models\\_utils.py:208: UserWarning: The parameter 'pretrained' is deprecated since 0.13 and may be removed in the future, please use 'weights' instead.\n",
      "  warnings.warn(\n",
      "c:\\Users\\yosef\\anaconda3\\Lib\\site-packages\\torchvision\\models\\_utils.py:223: UserWarning: Arguments other than a weight enum or `None` for 'weights' are deprecated since 0.13 and may be removed in the future. The current behavior is equivalent to passing `weights=None`.\n",
      "  warnings.warn(msg)\n"
     ]
    }
   ],
   "source": [
    "models_list = [\n",
    "    load_densenet(),\n",
    "    load_mobilenet(),\n",
    "    load_efficientnet(),\n",
    "    load_vgg()\n",
    "]\n",
    "\n",
    "labels, soft_preds, hard_preds = ensemble_voting(models_list, test_loader)\n"
   ]
  },
  {
   "cell_type": "code",
   "execution_count": 85,
   "id": "711af3f3",
   "metadata": {},
   "outputs": [
    {
     "name": "stdout",
     "output_type": "stream",
     "text": [
      "\n",
      "Soft Voting Results:\n",
      "Classification Report:\n",
      "              precision    recall  f1-score   support\n",
      "\n",
      "      NORMAL       0.93      0.95      0.94       234\n",
      "   PNEUMONIA       0.97      0.95      0.96       390\n",
      "\n",
      "    accuracy                           0.95       624\n",
      "   macro avg       0.95      0.95      0.95       624\n",
      "weighted avg       0.95      0.95      0.95       624\n",
      "\n",
      "Confusion Matrix:\n",
      "[[222  12]\n",
      " [ 18 372]]\n"
     ]
    },
    {
     "data": {
      "image/png": "[encoded data removed]",
      "text/plain": [
       "<Figure size 600x500 with 2 Axes>"
      ]
     },
     "metadata": {},
     "output_type": "display_data"
    },
    {
     "name": "stdout",
     "output_type": "stream",
     "text": [
      "\n",
      "Hard Voting Results:\n",
      "Classification Report:\n",
      "              precision    recall  f1-score   support\n",
      "\n",
      "      NORMAL       0.97      0.78      0.86       234\n",
      "   PNEUMONIA       0.88      0.98      0.93       390\n",
      "\n",
      "    accuracy                           0.91       624\n",
      "   macro avg       0.92      0.88      0.90       624\n",
      "weighted avg       0.91      0.91      0.90       624\n",
      "\n",
      "Confusion Matrix:\n",
      "[[182  52]\n",
      " [  6 384]]\n"
     ]
    },
    {
     "data": {
      "image/png": "[encoded data removed]",
      "text/plain": [
       "<Figure size 600x500 with 2 Axes>"
      ]
     },
     "metadata": {},
     "output_type": "display_data"
    }
   ],
   "source": [
    "def evaluate(true_labels, predicted_labels, name=\"\"):\n",
    "    print(f\"\\n{name} Voting Results:\")\n",
    "\n",
    "    class_report = classification_report(true_labels, predicted_labels, target_names=[\"NORMAL\", \"PNEUMONIA\"])\n",
    "    print(\"Classification Report:\")\n",
    "    print(class_report)\n",
    "\n",
    "    conf_matrix = confusion_matrix(true_labels, predicted_labels)\n",
    "    print(\"Confusion Matrix:\")\n",
    "    print(conf_matrix)\n",
    "\n",
    "    plt.figure(figsize=(6, 5))\n",
    "    sns.heatmap(conf_matrix, annot=True, fmt='d', cmap='Blues',\n",
    "                xticklabels=[\"NORMAL\", \"PNEUMONIA\"], yticklabels=[\"NORMAL\", \"PNEUMONIA\"])\n",
    "    plt.ylabel('True Label')\n",
    "    plt.xlabel('Predicted Label')\n",
    "    plt.title(f'{name} Voting - Confusion Matrix')\n",
    "    plt.show()\n",
    "evaluate(labels, soft_preds, name=\"Soft\")\n",
    "evaluate(labels, hard_preds, name=\"Hard\")"
   ]
  },
  {
   "cell_type": "code",
   "execution_count": null,
   "id": "84f19888",
   "metadata": {},
   "outputs": [],
   "source": []
  }
 ],
 "metadata": {
  "kernelspec": {
   "display_name": "base",
   "language": "python",
   "name": "python3"
  },
  "language_info": {
   "codemirror_mode": {
    "name": "ipython",
    "version": 3
   },
   "file_extension": ".py",
   "mimetype": "text/x-python",
   "name": "python",
   "nbconvert_exporter": "python",
   "pygments_lexer": "ipython3",
   "version": "3.12.3"
  }
 },
 "nbformat": 4,
 "nbformat_minor": 5
}
